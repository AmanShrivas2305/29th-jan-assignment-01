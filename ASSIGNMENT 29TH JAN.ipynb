{
 "cells": [
  {
   "cell_type": "code",
   "execution_count": null,
   "id": "310b3478-af7b-4e26-b11b-dbb16688e58d",
   "metadata": {},
   "outputs": [],
   "source": [
    "ASSIGNMENT - 01\n",
    "Que no 1\n",
    "Answer -01 Guido van Rossum developed python programming language.\n",
    "Que no -02 \n",
    "Answer -02 object oriented programming language type of  programming does python support. \n",
    "Que no 03\n",
    "Answer -03 yes python is a case sensitive programming language .\n",
    "Que no 04\n",
    "Answer -04 .py is the extension of python file.\n",
    "Que no -05\n",
    "Answer 05 python is a interpreted language.\n",
    "Ques no -06\n",
    "Answer 06 a module, a function body, and a class definition .\n",
    "Que -07\n",
    "Answer 07 We can write a single-line comment by adding a single # character before any statement or line of code.\n",
    "Que -08\n",
    "Answer 08 The function sys. version can help us to find the version of python that we are currently working on. \n",
    "Que-09\n",
    "Answer 09 lambda\n",
    "Que-10\n",
    "Answer-10 Pip stand for Pip Install Packages.\n",
    "Que-11\n",
    "Answer 11 1. complex()\n",
    "2. dict{}\n",
    "3. type()\n",
    "4. list()\n",
    "5. lambda()\n",
    "Que-12\n",
    "Answer 12 79 characters\n",
    "Que -13\n",
    "Answer Advantages of Python\n",
    "1)Large developer community\n",
    "2)Extensive libraries\n",
    "3)Write less, do more\n",
    "4)Portability\n",
    "5)Wide range of use cases.\n",
    "Que -14\n",
    "Answer 14 Memory management in Python involves a private heap containing all Python objects and data structures. \n",
    "The management of this private heap is ensured internally by the Python memory manager.\n",
    "Que-15\n",
    "Answer 15 Step 1: Select Version of Python to Install.\n",
    "Step 2: Download Python Executable Installer.\n",
    "Step 3: Run Executable Installer.\n",
    "Step 4: Verify Python Was Installed On Windows.\n",
    "Step 5: Verify Pip Was Installed.\n",
    "Step 6: Add Python Path to Environment Variables (Optional).\n",
    "Step 7: Install virtualnv (Optional).\n",
    "Ques no-16\n",
    "Answer 16 yes it is required for python how you to  determine the scope "
   ]
  }
 ],
 "metadata": {
  "kernelspec": {
   "display_name": "Python 3 (ipykernel)",
   "language": "python",
   "name": "python3"
  },
  "language_info": {
   "codemirror_mode": {
    "name": "ipython",
    "version": 3
   },
   "file_extension": ".py",
   "mimetype": "text/x-python",
   "name": "python",
   "nbconvert_exporter": "python",
   "pygments_lexer": "ipython3",
   "version": "3.10.8"
  }
 },
 "nbformat": 4,
 "nbformat_minor": 5
}
